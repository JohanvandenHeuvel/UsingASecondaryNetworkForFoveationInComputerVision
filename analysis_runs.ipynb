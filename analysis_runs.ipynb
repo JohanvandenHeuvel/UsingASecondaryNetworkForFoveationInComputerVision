{
 "cells": [
  {
   "cell_type": "code",
   "execution_count": 1,
   "metadata": {},
   "outputs": [
    {
     "name": "stdout",
     "output_type": "stream",
     "text": [
      "Device: cuda\n",
      "-- Data Parameters --\n",
      "using Resolution: 224\n",
      "using # actions: 25\n",
      "-- Training Parameters --\n",
      "using training data: E:\\ILSVRC2017\\10classesfirst\\nofoveation\\train\n",
      "using test data: E:\\ILSVRC2017\\10classesfirst\\nofoveation\\test\n",
      "using q-table for training data: Q_tables\\Q_table_strongfoveated_first10.csv\n",
      "using q-table for test data: Q_tables\\Q_table_strongfoveated_first10.csv\n",
      "using batch size: 32\n",
      "using # epochs: 150\n"
     ]
    }
   ],
   "source": [
    "import functions as f\n",
    "import parameters as p\n",
    "import run_statistics as stats\n",
    "import train_network\n",
    "\n",
    "import numpy as np\n",
    "import pandas as pd\n",
    "\n",
    "import network\n",
    "import os"
   ]
  },
  {
   "cell_type": "code",
   "execution_count": 2,
   "metadata": {},
   "outputs": [
    {
     "name": "stdout",
     "output_type": "stream",
     "text": [
      "['01-02-2020 default second data', '04-02-2020 10classesfirst', '06-02-2020 10classessecond', '31-01-2020 default']\n"
     ]
    }
   ],
   "source": [
    "paths = os.listdir(p.CHECKPOINT_DIR)\n",
    "print(paths)"
   ]
  },
  {
   "cell_type": "code",
   "execution_count": 3,
   "metadata": {},
   "outputs": [],
   "source": [
    "m = network.DQN(p.RESOLUTION, p.RESOLUTION, p.N_ACTIONS)\n",
    "m.to(p.DEVICE)\n",
    "loader_test, idx_to_class = f.loader(p.DATA_PATH_TEST, transform=p.TRANSFORM, batch_size=p.BATCH_SIZE, shuffle=False)\n"
   ]
  },
  {
   "cell_type": "code",
   "execution_count": 4,
   "metadata": {},
   "outputs": [],
   "source": [
    "def process_run(m, path):\n",
    "    run = f.Run(p.CHECKPOINT_DIR + '\\\\{}'.format(path))\n",
    "    run.plot_loss()\n",
    "    print(run.lowest_validation(10))\n",
    "\n",
    "#     start_epoch, m = f.load_checkpoint(run.get_checkpoint(str(run.lowest_validation(10).index[1])), m)\n",
    "    start_epoch, m = f.load_checkpoint(run.get_checkpoint(str(100)), m)\n",
    "    m.eval()\n",
    "    #random_losses = stats.generate_random(idx_to_class, loader_test)\n",
    "    #predicted_losses, target_losses, center_locations = stats.generate_predictions(idx_to_class, loader_test, m)\n",
    "    #stats.print_results(predicted_losses, target_losses)\n",
    "    train_network.validate_model(m, loader_test, idx_to_class)"
   ]
  },
  {
   "cell_type": "code",
   "execution_count": 5,
   "metadata": {},
   "outputs": [
    {
     "name": "stdout",
     "output_type": "stream",
     "text": [
      "using: E:\\Dropbox\\Documents\\Year4\\BachelorThesis\\UsingASecondaryNetworkForFoveationInComputerVision\\checkpoints\\04-02-2020 10classesfirst \n",
      " reading results from E:\\Dropbox\\Documents\\Year4\\BachelorThesis\\UsingASecondaryNetworkForFoveationInComputerVision\\checkpoints\\04-02-2020 10classesfirst\\results.txt\n"
     ]
    },
    {
     "data": {
      "image/png": "[encoded data removed]",
      "text/plain": [
       "<Figure size 432x288 with 1 Axes>"
      ]
     },
     "metadata": {
      "needs_background": "light"
     },
     "output_type": "display_data"
    },
    {
     "name": "stdout",
     "output_type": "stream",
     "text": [
      "    validation     training\n",
      "17  177.976398  1525.930579\n",
      "72  178.946350   470.583957\n",
      "50  181.136615   622.271702\n",
      "95  182.373733   358.373200\n",
      "82  183.038114   415.128716\n",
      "53  183.300663   599.219113\n",
      "63  183.884571   517.096924\n",
      "79  184.223373   429.089597\n",
      "55  184.674920   577.092212\n",
      "74  184.987023   465.781173\n"
     ]
    },
    {
     "name": "stderr",
     "output_type": "stream",
     "text": [
      "  0%|                                                                                   | 0/32 [00:00<?, ?it/s]"
     ]
    },
    {
     "name": "stdout",
     "output_type": "stream",
     "text": [
      "loading checkpoint\n",
      "validating ...\n"
     ]
    },
    {
     "name": "stderr",
     "output_type": "stream",
     "text": [
      "100%|██████████████████████████████████████████████████████████████████████████| 32/32 [00:22<00:00,  1.43it/s]"
     ]
    },
    {
     "name": "stdout",
     "output_type": "stream",
     "text": [
      "running [validation] loss over 32 batches 199.4476078298868\n",
      "actions: [(2, 1), (5, 24), (6, 190), (7, 317), (8, 13), (10, 90), (11, 183), (12, 99), (13, 16), (15, 20), (16, 16), (17, 9), (18, 15), (20, 1), (22, 1), (23, 5)]\n",
      "\n",
      " === predicted vs target ===\n",
      "Better performance of the network then center on the 1000 test images: 47.1%\n",
      "Equal performance of the network then center on the 1000 test images: 9.9%\n",
      "Worse performance of the network then center on the 1000 test images: 43.0%\n",
      "WilcoxonResult(statistic=180376.0, pvalue=0.003524200274283165)\n",
      "WilcoxonResult(statistic=180376.0, pvalue=0.0017621001371415825)\n"
     ]
    },
    {
     "name": "stderr",
     "output_type": "stream",
     "text": [
      "\n"
     ]
    }
   ],
   "source": [
    "process_run(m, paths[1])"
   ]
  },
  {
   "cell_type": "code",
   "execution_count": 6,
   "metadata": {},
   "outputs": [
    {
     "name": "stderr",
     "output_type": "stream",
     "text": [
      "  0%|                                                                                   | 0/30 [00:00<?, ?it/s]"
     ]
    },
    {
     "name": "stdout",
     "output_type": "stream",
     "text": [
      "generating 30 random samples ... \n",
      "\n"
     ]
    },
    {
     "name": "stderr",
     "output_type": "stream",
     "text": [
      "100%|██████████████████████████████████████████████████████████████████████████| 30/30 [01:53<00:00,  3.79s/it]\n",
      "  0%|                                                                                   | 0/32 [00:00<?, ?it/s]"
     ]
    },
    {
     "name": "stdout",
     "output_type": "stream",
     "text": [
      "generating 30 random samples done\n",
      "generating predictions ... \n",
      "\n"
     ]
    },
    {
     "name": "stderr",
     "output_type": "stream",
     "text": [
      "100%|██████████████████████████████████████████████████████████████████████████| 32/32 [00:15<00:00,  2.01it/s]"
     ]
    },
    {
     "name": "stdout",
     "output_type": "stream",
     "text": [
      "generating predictions done\n"
     ]
    },
    {
     "name": "stderr",
     "output_type": "stream",
     "text": [
      "\n"
     ]
    }
   ],
   "source": [
    "random_losses = stats.generate_random(idx_to_class, loader_test)\n",
    "predicted_losses, target_losses, center_locations = stats.generate_predictions(idx_to_class, loader_test, m)\n",
    "\n",
    "losses = pd.DataFrame([np.array(target_losses), np.array(predicted_losses), np.array(random_losses)]).transpose()\n",
    "losses.columns = ['target', 'predicted', 'random']\n",
    "losses = losses.sort_values('target')\n",
    "losses = losses.reset_index(drop=True)\n",
    "\n"
   ]
  },
  {
   "cell_type": "code",
   "execution_count": 7,
   "metadata": {},
   "outputs": [
    {
     "data": {
      "text/html": [
       "<div>\n",
       "<style scoped>\n",
       "    .dataframe tbody tr th:only-of-type {\n",
       "        vertical-align: middle;\n",
       "    }\n",
       "\n",
       "    .dataframe tbody tr th {\n",
       "        vertical-align: top;\n",
       "    }\n",
       "\n",
       "    .dataframe thead th {\n",
       "        text-align: right;\n",
       "    }\n",
       "</style>\n",
       "<table border=\"1\" class=\"dataframe\">\n",
       "  <thead>\n",
       "    <tr style=\"text-align: right;\">\n",
       "      <th></th>\n",
       "      <th>target</th>\n",
       "      <th>predicted</th>\n",
       "      <th>random</th>\n",
       "    </tr>\n",
       "  </thead>\n",
       "  <tbody>\n",
       "    <tr>\n",
       "      <td>0</td>\n",
       "      <td>0.000195</td>\n",
       "      <td>0.000504</td>\n",
       "      <td>0.063017</td>\n",
       "    </tr>\n",
       "    <tr>\n",
       "      <td>1</td>\n",
       "      <td>0.000532</td>\n",
       "      <td>1.650514</td>\n",
       "      <td>1.202773</td>\n",
       "    </tr>\n",
       "    <tr>\n",
       "      <td>2</td>\n",
       "      <td>0.000629</td>\n",
       "      <td>0.000454</td>\n",
       "      <td>0.349752</td>\n",
       "    </tr>\n",
       "    <tr>\n",
       "      <td>3</td>\n",
       "      <td>0.000647</td>\n",
       "      <td>0.030438</td>\n",
       "      <td>0.532361</td>\n",
       "    </tr>\n",
       "    <tr>\n",
       "      <td>4</td>\n",
       "      <td>0.000704</td>\n",
       "      <td>0.000383</td>\n",
       "      <td>0.059003</td>\n",
       "    </tr>\n",
       "    <tr>\n",
       "      <td>...</td>\n",
       "      <td>...</td>\n",
       "      <td>...</td>\n",
       "      <td>...</td>\n",
       "    </tr>\n",
       "    <tr>\n",
       "      <td>995</td>\n",
       "      <td>12.996223</td>\n",
       "      <td>7.827698</td>\n",
       "      <td>9.126844</td>\n",
       "    </tr>\n",
       "    <tr>\n",
       "      <td>996</td>\n",
       "      <td>13.172338</td>\n",
       "      <td>9.679245</td>\n",
       "      <td>8.300001</td>\n",
       "    </tr>\n",
       "    <tr>\n",
       "      <td>997</td>\n",
       "      <td>13.587446</td>\n",
       "      <td>7.708899</td>\n",
       "      <td>7.562133</td>\n",
       "    </tr>\n",
       "    <tr>\n",
       "      <td>998</td>\n",
       "      <td>14.656813</td>\n",
       "      <td>13.796965</td>\n",
       "      <td>12.356037</td>\n",
       "    </tr>\n",
       "    <tr>\n",
       "      <td>999</td>\n",
       "      <td>15.794745</td>\n",
       "      <td>14.184248</td>\n",
       "      <td>14.313667</td>\n",
       "    </tr>\n",
       "  </tbody>\n",
       "</table>\n",
       "<p>1000 rows × 3 columns</p>\n",
       "</div>"
      ],
      "text/plain": [
       "        target  predicted     random\n",
       "0     0.000195   0.000504   0.063017\n",
       "1     0.000532   1.650514   1.202773\n",
       "2     0.000629   0.000454   0.349752\n",
       "3     0.000647   0.030438   0.532361\n",
       "4     0.000704   0.000383   0.059003\n",
       "..         ...        ...        ...\n",
       "995  12.996223   7.827698   9.126844\n",
       "996  13.172338   9.679245   8.300001\n",
       "997  13.587446   7.708899   7.562133\n",
       "998  14.656813  13.796965  12.356037\n",
       "999  15.794745  14.184248  14.313667\n",
       "\n",
       "[1000 rows x 3 columns]"
      ]
     },
     "execution_count": 7,
     "metadata": {},
     "output_type": "execute_result"
    }
   ],
   "source": [
    "losses"
   ]
  },
  {
   "cell_type": "code",
   "execution_count": 8,
   "metadata": {},
   "outputs": [
    {
     "name": "stdout",
     "output_type": "stream",
     "text": [
      "\n",
      " === predicted vs target ===\n",
      "Better performance of the network then center on the 1000 test images: 47.1%\n",
      "Equal performance of the network then center on the 1000 test images: 9.9%\n",
      "Worse performance of the network then center on the 1000 test images: 43.0%\n",
      "WilcoxonResult(statistic=180376.0, pvalue=0.003524200274283165)\n",
      "WilcoxonResult(statistic=180376.0, pvalue=0.0017621001371415825)\n",
      "\n",
      " === random vs target ===\n",
      "Better performance of the network then center on the 1000 test images: 22.8%\n",
      "Equal performance of the network then center on the 1000 test images: 0.0%\n",
      "Worse performance of the network then center on the 1000 test images: 77.2%\n",
      "WilcoxonResult(statistic=83166.0, pvalue=1.0048093040732157e-74)\n",
      "WilcoxonResult(statistic=417334.0, pvalue=1.0)\n",
      "\n",
      " === predicted vs random ===\n",
      "Better performance of the network then center on the 1000 test images: 80.1%\n",
      "Equal performance of the network then center on the 1000 test images: 0.0%\n",
      "Worse performance of the network then center on the 1000 test images: 19.9%\n",
      "WilcoxonResult(statistic=58030.0, pvalue=2.7726786268006232e-98)\n",
      "WilcoxonResult(statistic=58030.0, pvalue=1.3863393134003116e-98)\n"
     ]
    }
   ],
   "source": [
    "stats.print_results(losses['predicted'], losses['target'], losses['random'])"
   ]
  },
  {
   "cell_type": "code",
   "execution_count": null,
   "metadata": {},
   "outputs": [],
   "source": []
  }
 ],
 "metadata": {
  "kernelspec": {
   "display_name": "Python 3",
   "language": "python",
   "name": "python3"
  },
  "language_info": {
   "codemirror_mode": {
    "name": "ipython",
    "version": 3
   },
   "file_extension": ".py",
   "mimetype": "text/x-python",
   "name": "python",
   "nbconvert_exporter": "python",
   "pygments_lexer": "ipython3",
   "version": "3.7.6"
  }
 },
 "nbformat": 4,
 "nbformat_minor": 4
}
